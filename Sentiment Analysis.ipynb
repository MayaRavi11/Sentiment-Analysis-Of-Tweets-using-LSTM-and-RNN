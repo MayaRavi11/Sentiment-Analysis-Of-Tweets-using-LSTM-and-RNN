{
 "cells": [
  {
   "cell_type": "markdown",
   "id": "05e061b7-ad83-4bca-a46f-1490c3b28db6",
   "metadata": {},
   "source": [
    "# Twitter Sentiment Analysis using Recurrent Neural Networks and LSTM"
   ]
  },
  {
   "cell_type": "markdown",
   "id": "107fb132-34b4-4598-9f61-acd1c10f2b85",
   "metadata": {},
   "source": [
    "### 1. Import python packages (NLTK, SK-Learn, TensorFlow)"
   ]
  },
  {
   "cell_type": "code",
   "execution_count": 23,
   "id": "d2cd8c79-bd27-44ab-8363-297b6fa0ed32",
   "metadata": {
    "tags": []
   },
   "outputs": [],
   "source": [
    "import io\n",
    "import os\n",
    "import re\n",
    "import shutil\n",
    "import string\n",
    "import pandas as pd\n",
    "import numpy as np\n",
    "import matplotlib.pyplot as plt\n",
    "import seaborn as sns\n",
    "\n",
    "import nltk\n",
    "from nltk.corpus import stopwords\n",
    "from nltk.tokenize import RegexpTokenizer\n",
    "\n",
    "from sklearn.model_selection import train_test_split\n",
    "from sklearn.metrics import roc_curve, auc\n",
    "from sklearn import metrics\n",
    "\n",
    "from tensorflow.keras.preprocessing.text import Tokenizer\n",
    "from tensorflow.keras.preprocessing import sequence\n",
    "\n",
    "import tensorflow as tf\n",
    "from tensorflow.keras import Sequential\n",
    "from tensorflow.keras.layers import Dense, Embedding, GlobalAveragePooling1D\n",
    "from tensorflow.keras.layers import TextVectorization"
   ]
  },
  {
   "cell_type": "markdown",
   "id": "203c71d8-c136-436a-8611-a6449da4fc2b",
   "metadata": {},
   "source": [
    "### 2. Load Tweets into a dataframe from dataset"
   ]
  },
  {
   "cell_type": "code",
   "execution_count": 2,
   "id": "5798da83-5f17-4ecb-84fd-3032f3b20baf",
   "metadata": {
    "tags": []
   },
   "outputs": [
    {
     "data": {
      "text/html": [
       "<div>\n",
       "<style scoped>\n",
       "    .dataframe tbody tr th:only-of-type {\n",
       "        vertical-align: middle;\n",
       "    }\n",
       "\n",
       "    .dataframe tbody tr th {\n",
       "        vertical-align: top;\n",
       "    }\n",
       "\n",
       "    .dataframe thead th {\n",
       "        text-align: right;\n",
       "    }\n",
       "</style>\n",
       "<table border=\"1\" class=\"dataframe\">\n",
       "  <thead>\n",
       "    <tr style=\"text-align: right;\">\n",
       "      <th></th>\n",
       "      <th>label</th>\n",
       "      <th>ids</th>\n",
       "      <th>date</th>\n",
       "      <th>flag</th>\n",
       "      <th>user</th>\n",
       "      <th>text</th>\n",
       "    </tr>\n",
       "  </thead>\n",
       "  <tbody>\n",
       "    <tr>\n",
       "      <th>0</th>\n",
       "      <td>0</td>\n",
       "      <td>1467810369</td>\n",
       "      <td>Mon Apr 06 22:19:45 PDT 2009</td>\n",
       "      <td>NO_QUERY</td>\n",
       "      <td>_TheSpecialOne_</td>\n",
       "      <td>@switchfoot http://twitpic.com/2y1zl - Awww, t...</td>\n",
       "    </tr>\n",
       "    <tr>\n",
       "      <th>1</th>\n",
       "      <td>0</td>\n",
       "      <td>1467810672</td>\n",
       "      <td>Mon Apr 06 22:19:49 PDT 2009</td>\n",
       "      <td>NO_QUERY</td>\n",
       "      <td>scotthamilton</td>\n",
       "      <td>is upset that he can't update his Facebook by ...</td>\n",
       "    </tr>\n",
       "    <tr>\n",
       "      <th>2</th>\n",
       "      <td>0</td>\n",
       "      <td>1467810917</td>\n",
       "      <td>Mon Apr 06 22:19:53 PDT 2009</td>\n",
       "      <td>NO_QUERY</td>\n",
       "      <td>mattycus</td>\n",
       "      <td>@Kenichan I dived many times for the ball. Man...</td>\n",
       "    </tr>\n",
       "    <tr>\n",
       "      <th>3</th>\n",
       "      <td>0</td>\n",
       "      <td>1467811184</td>\n",
       "      <td>Mon Apr 06 22:19:57 PDT 2009</td>\n",
       "      <td>NO_QUERY</td>\n",
       "      <td>ElleCTF</td>\n",
       "      <td>my whole body feels itchy and like its on fire</td>\n",
       "    </tr>\n",
       "    <tr>\n",
       "      <th>4</th>\n",
       "      <td>0</td>\n",
       "      <td>1467811193</td>\n",
       "      <td>Mon Apr 06 22:19:57 PDT 2009</td>\n",
       "      <td>NO_QUERY</td>\n",
       "      <td>Karoli</td>\n",
       "      <td>@nationwideclass no, it's not behaving at all....</td>\n",
       "    </tr>\n",
       "  </tbody>\n",
       "</table>\n",
       "</div>"
      ],
      "text/plain": [
       "   label         ids                          date      flag             user  \\\n",
       "0      0  1467810369  Mon Apr 06 22:19:45 PDT 2009  NO_QUERY  _TheSpecialOne_   \n",
       "1      0  1467810672  Mon Apr 06 22:19:49 PDT 2009  NO_QUERY    scotthamilton   \n",
       "2      0  1467810917  Mon Apr 06 22:19:53 PDT 2009  NO_QUERY         mattycus   \n",
       "3      0  1467811184  Mon Apr 06 22:19:57 PDT 2009  NO_QUERY          ElleCTF   \n",
       "4      0  1467811193  Mon Apr 06 22:19:57 PDT 2009  NO_QUERY           Karoli   \n",
       "\n",
       "                                                text  \n",
       "0  @switchfoot http://twitpic.com/2y1zl - Awww, t...  \n",
       "1  is upset that he can't update his Facebook by ...  \n",
       "2  @Kenichan I dived many times for the ball. Man...  \n",
       "3    my whole body feels itchy and like its on fire   \n",
       "4  @nationwideclass no, it's not behaving at all....  "
      ]
     },
     "execution_count": 2,
     "metadata": {},
     "output_type": "execute_result"
    }
   ],
   "source": [
    "DATASET_COLUMNS = [\"label\", \"ids\", \"date\", \"flag\", \"user\", \"text\"]\n",
    "DATASET_ENCODING = \"ISO-8859-1\"\n",
    "\n",
    "tweets = pd.read_csv('./twitter.csv', encoding =DATASET_ENCODING , names=DATASET_COLUMNS)\n",
    "\n",
    "tweets.head()"
   ]
  },
  {
   "cell_type": "markdown",
   "id": "5723afca-9155-4a00-9ae4-1fd1f6039537",
   "metadata": {},
   "source": [
    "### 3. Pre-Processing"
   ]
  },
  {
   "cell_type": "markdown",
   "id": "3e9bf4c4-3631-444c-8083-73344920c679",
   "metadata": {},
   "source": [
    "#### 3.1 Set Postive and Negative Labels"
   ]
  },
  {
   "cell_type": "code",
   "execution_count": 3,
   "id": "34bcb6be-c48b-4b27-9ad2-89871c415a0a",
   "metadata": {
    "tags": []
   },
   "outputs": [],
   "source": [
    "tweets = tweets[['text','label']]\n",
    "tweets['label'][tweets['label']==4]=1\n",
    "\n",
    "tweets_pos = tweets[tweets['label'] == 1]\n",
    "tweets_neg = tweets[tweets['label'] == 0]"
   ]
  },
  {
   "cell_type": "markdown",
   "id": "278fc2d3-5ac0-488f-be32-6ea49e128ff3",
   "metadata": {},
   "source": [
    "#### 3.2 Select a subset of postive and negative tweets"
   ]
  },
  {
   "cell_type": "code",
   "execution_count": 4,
   "id": "a25bbc17-c9c0-4a83-b7b4-dbd31dc2d514",
   "metadata": {
    "tags": []
   },
   "outputs": [],
   "source": [
    "tweets_pos = tweets_pos.iloc[:int(20000)]\n",
    "tweets_neg = tweets_neg.iloc[:int(20000)]\n",
    "\n",
    "tweets = pd.concat([tweets_pos, tweets_neg])"
   ]
  },
  {
   "cell_type": "code",
   "execution_count": 5,
   "id": "7f24e347-37ee-4843-a076-35d6c8b95017",
   "metadata": {
    "tags": []
   },
   "outputs": [
    {
     "data": {
      "text/plain": [
       "40000"
      ]
     },
     "execution_count": 5,
     "metadata": {},
     "output_type": "execute_result"
    }
   ],
   "source": [
    "len(tweets)"
   ]
  },
  {
   "cell_type": "markdown",
   "id": "3118566b-63a1-4a3c-8e5a-26fc1d60e9a5",
   "metadata": {},
   "source": [
    "#### 3.3 Initialize varibales and constants for pre-processing and model development"
   ]
  },
  {
   "cell_type": "code",
   "execution_count": 6,
   "id": "a8b23c39-3cc8-4475-bd6e-588d226452a6",
   "metadata": {
    "tags": []
   },
   "outputs": [
    {
     "name": "stderr",
     "output_type": "stream",
     "text": [
      "[nltk_data] Downloading package stopwords to\n",
      "[nltk_data]     C:\\Users\\apoondic\\AppData\\Roaming\\nltk_data...\n",
      "[nltk_data]   Package stopwords is already up-to-date!\n"
     ]
    }
   ],
   "source": [
    "nltk.download('stopwords')\n",
    "\", \".join(stopwords.words('english'))\n",
    "\n",
    "STOPWORDS = set(stopwords.words('english'))\n",
    "\n",
    "english_punctuations = string.punctuation\n",
    "punctuations_list = english_punctuations\n",
    "\n",
    "vocab_size = 2000\n",
    "embed_dim=50\n",
    "MAX_SEQUENCE_LENGTH = 500\n",
    "lstm_out = 50\n",
    "\n",
    "regex_tokenizer = RegexpTokenizer(r'\\w+')\n",
    "tokenizer = Tokenizer(num_words=vocab_size)"
   ]
  },
  {
   "cell_type": "markdown",
   "id": "9f39600a-b8e8-434a-a76e-40d1e90558fa",
   "metadata": {},
   "source": [
    "#### 3.4 Define Data Pre-Processing Functions"
   ]
  },
  {
   "cell_type": "code",
   "execution_count": 7,
   "id": "27ae9d71-c950-4fb5-8d1b-e1c509df91b3",
   "metadata": {
    "tags": []
   },
   "outputs": [],
   "source": [
    "def unify_casing(text):\n",
    "    return text.lower()\n",
    "\n",
    "def cleaning_stopwords(text):\n",
    "    return \" \".join([word for word in str(text).split() if word not in STOPWORDS])\n",
    "\n",
    "def cleaning_punctuations(text):\n",
    "    translator = str.maketrans('', '', punctuations_list)\n",
    "    return text.translate(translator)\n",
    "\n",
    "def cleaning_repeating_char(text):\n",
    "    return re.sub(r'(.)\\1+', r'\\1', text)\n",
    "\n",
    "def cleaning_URLs(data):\n",
    "    return re.sub('((www\\.[^\\s]+)|(https?://[^\\s]+))',' ',data)\n",
    "\n",
    "def cleaning_email(data):\n",
    "    return re.sub('@[^\\s]+', ' ', data)\n",
    "\n",
    "def cleaning_numbers(data):\n",
    "    return re.sub('[0-9]+', '', data)\n",
    "\n",
    "def tokenize_sentence_to_words(text):\n",
    "    return regex_tokenizer.tokenize(text)\n",
    "    \n",
    "def transform_text(text):\n",
    "    text = unify_casing(text)\n",
    "    text = cleaning_stopwords(text)\n",
    "    text = cleaning_punctuations(text)\n",
    "    text = cleaning_repeating_char(text)\n",
    "    text = cleaning_email(text)\n",
    "    text = cleaning_URLs(text)\n",
    "    text = cleaning_numbers(text)\n",
    "    text = tokenize_sentence_to_words(text)\n",
    "    \n",
    "    return text"
   ]
  },
  {
   "cell_type": "code",
   "execution_count": 8,
   "id": "72e802f1-0211-404f-9bdb-81aee8441fae",
   "metadata": {
    "tags": []
   },
   "outputs": [],
   "source": [
    "def tokenize_words_to_numeric(sentences):\n",
    "\n",
    "    tokenizer.fit_on_texts(sentences)\n",
    "    sequences = tokenizer.texts_to_sequences(sentences)\n",
    "    sequences_matrix = sequence.pad_sequences(sequences, maxlen=500)\n",
    "    \n",
    "    return sequences_matrix"
   ]
  },
  {
   "cell_type": "markdown",
   "id": "7aa5f804-9512-47b5-8d9b-2e12869a20ac",
   "metadata": {},
   "source": [
    "#### 3.5 Execute Data Cleaning"
   ]
  },
  {
   "cell_type": "code",
   "execution_count": 9,
   "id": "c0743657-c3de-4ab6-b400-5cc8469848d6",
   "metadata": {
    "tags": []
   },
   "outputs": [
    {
     "data": {
      "text/html": [
       "<div>\n",
       "<style scoped>\n",
       "    .dataframe tbody tr th:only-of-type {\n",
       "        vertical-align: middle;\n",
       "    }\n",
       "\n",
       "    .dataframe tbody tr th {\n",
       "        vertical-align: top;\n",
       "    }\n",
       "\n",
       "    .dataframe thead th {\n",
       "        text-align: right;\n",
       "    }\n",
       "</style>\n",
       "<table border=\"1\" class=\"dataframe\">\n",
       "  <thead>\n",
       "    <tr style=\"text-align: right;\">\n",
       "      <th></th>\n",
       "      <th>text</th>\n",
       "      <th>label</th>\n",
       "    </tr>\n",
       "  </thead>\n",
       "  <tbody>\n",
       "    <tr>\n",
       "      <th>800000</th>\n",
       "      <td>[love, healthuandpets, u, guys, r, best]</td>\n",
       "      <td>1</td>\n",
       "    </tr>\n",
       "    <tr>\n",
       "      <th>800001</th>\n",
       "      <td>[im, meting, one, besties, tonight, cant, wait...</td>\n",
       "      <td>1</td>\n",
       "    </tr>\n",
       "    <tr>\n",
       "      <th>800002</th>\n",
       "      <td>[darealsunisakim, thanks, twiter, ad, sunisa, ...</td>\n",
       "      <td>1</td>\n",
       "    </tr>\n",
       "    <tr>\n",
       "      <th>800003</th>\n",
       "      <td>[sick, realy, cheap, hurts, much, eat, real, f...</td>\n",
       "      <td>1</td>\n",
       "    </tr>\n",
       "    <tr>\n",
       "      <th>800004</th>\n",
       "      <td>[lovesbroklyn, efect, everyone]</td>\n",
       "      <td>1</td>\n",
       "    </tr>\n",
       "  </tbody>\n",
       "</table>\n",
       "</div>"
      ],
      "text/plain": [
       "                                                     text  label\n",
       "800000           [love, healthuandpets, u, guys, r, best]      1\n",
       "800001  [im, meting, one, besties, tonight, cant, wait...      1\n",
       "800002  [darealsunisakim, thanks, twiter, ad, sunisa, ...      1\n",
       "800003  [sick, realy, cheap, hurts, much, eat, real, f...      1\n",
       "800004                    [lovesbroklyn, efect, everyone]      1"
      ]
     },
     "execution_count": 9,
     "metadata": {},
     "output_type": "execute_result"
    }
   ],
   "source": [
    "tweets['text'] = tweets['text'].apply(lambda text: transform_text(text))\n",
    "\n",
    "tweets.head()"
   ]
  },
  {
   "cell_type": "markdown",
   "id": "b1491a6d-11f1-4d3a-a2fc-4b2065a17ba0",
   "metadata": {},
   "source": [
    "#### 3.6 Tokenize words to numeric form | Seperate Inputs and Labels"
   ]
  },
  {
   "cell_type": "code",
   "execution_count": 10,
   "id": "238ef8c4-065f-415e-a789-6a562d9be6e3",
   "metadata": {
    "tags": []
   },
   "outputs": [],
   "source": [
    "X = tokenize_words_to_numeric(tweets.text)\n",
    "y = tweets.label"
   ]
  },
  {
   "cell_type": "code",
   "execution_count": 11,
   "id": "fceaad25-46e8-4294-81ad-89b3a14decdf",
   "metadata": {
    "tags": []
   },
   "outputs": [
    {
     "data": {
      "text/plain": [
       "(40000, 500)"
      ]
     },
     "execution_count": 11,
     "metadata": {},
     "output_type": "execute_result"
    }
   ],
   "source": [
    "X.shape"
   ]
  },
  {
   "cell_type": "markdown",
   "id": "d3e11681-75bd-48cb-9d81-09999d6372db",
   "metadata": {},
   "source": [
    "#### 3.7 Prepare Training and Test Set"
   ]
  },
  {
   "cell_type": "code",
   "execution_count": 12,
   "id": "67d47f80-6a0f-403f-8acd-296b58a285a4",
   "metadata": {
    "tags": []
   },
   "outputs": [],
   "source": [
    "X_train, X_test, Y_train, Y_test = train_test_split(X, y, test_size=0.3, random_state=2)"
   ]
  },
  {
   "cell_type": "markdown",
   "id": "25c6cfb3-9c0d-4348-943c-b97d66247b8b",
   "metadata": {},
   "source": [
    "### 4. Build RNN model"
   ]
  },
  {
   "cell_type": "markdown",
   "id": "39116b9f-b52b-4010-b990-cd28635a7295",
   "metadata": {},
   "source": [
    "#### 4.1 Define RNN layers"
   ]
  },
  {
   "cell_type": "code",
   "execution_count": 13,
   "id": "3dfce6b4-93b0-4472-8680-b1354a5104f8",
   "metadata": {
    "tags": []
   },
   "outputs": [
    {
     "name": "stdout",
     "output_type": "stream",
     "text": [
      "Model: \"sequential\"\n",
      "_________________________________________________________________\n",
      " Layer (type)                Output Shape              Param #   \n",
      "=================================================================\n",
      " embedding (Embedding)       (None, 500, 50)           100000    \n",
      "                                                                 \n",
      " spatial_dropout1d (Spatial  (None, 500, 50)           0         \n",
      " Dropout1D)                                                      \n",
      "                                                                 \n",
      " gru (GRU)                   (None, 50)                15300     \n",
      "                                                                 \n",
      " dense (Dense)               (None, 2)                 102       \n",
      "                                                                 \n",
      "=================================================================\n",
      "Total params: 115402 (450.79 KB)\n",
      "Trainable params: 115402 (450.79 KB)\n",
      "Non-trainable params: 0 (0.00 Byte)\n",
      "_________________________________________________________________\n",
      "None\n"
     ]
    }
   ],
   "source": [
    "from keras.models import Sequential\n",
    "from keras.layers import Dense, Embedding, LSTM, SpatialDropout1D, GRU\n",
    "from sklearn.model_selection import train_test_split\n",
    "\n",
    "\n",
    "\n",
    "model = Sequential()\n",
    "model.add(Embedding(vocab_size, embed_dim,input_length = MAX_SEQUENCE_LENGTH))\n",
    "model.add(SpatialDropout1D(0.4))\n",
    "model.add(GRU(lstm_out, dropout=0.3, recurrent_dropout=0.3))\n",
    "model.add(Dense(2,activation='softmax'))\n",
    "model.compile(loss = 'sparse_categorical_crossentropy', optimizer='adam',metrics = ['accuracy'])\n",
    "print(model.summary())"
   ]
  },
  {
   "cell_type": "markdown",
   "id": "675b9e5c-d045-485b-846e-892ec11530e0",
   "metadata": {},
   "source": [
    "#### 4.2 Train RNN Model"
   ]
  },
  {
   "cell_type": "code",
   "execution_count": 14,
   "id": "1da0ffa0-3e27-4dd0-b9bc-3ebea805e713",
   "metadata": {
    "tags": []
   },
   "outputs": [
    {
     "name": "stdout",
     "output_type": "stream",
     "text": [
      "Epoch 1/5\n",
      "298/298 [==============================] - 168s 551ms/step - loss: 0.5969 - accuracy: 0.6700 - val_loss: 0.5291 - val_accuracy: 0.7376\n",
      "Epoch 2/5\n",
      "298/298 [==============================] - 173s 580ms/step - loss: 0.5132 - accuracy: 0.7495 - val_loss: 0.5237 - val_accuracy: 0.7383\n",
      "Epoch 3/5\n",
      "298/298 [==============================] - 124s 416ms/step - loss: 0.4962 - accuracy: 0.7584 - val_loss: 0.5214 - val_accuracy: 0.7388\n",
      "Epoch 4/5\n",
      "298/298 [==============================] - 116s 391ms/step - loss: 0.4843 - accuracy: 0.7669 - val_loss: 0.5213 - val_accuracy: 0.7424\n",
      "Epoch 5/5\n",
      "298/298 [==============================] - 115s 385ms/step - loss: 0.4764 - accuracy: 0.7687 - val_loss: 0.5234 - val_accuracy: 0.7388\n"
     ]
    }
   ],
   "source": [
    "history = model.fit(X_train, Y_train, epochs=5, batch_size=80, validation_split=0.15)"
   ]
  },
  {
   "cell_type": "markdown",
   "id": "4abe4fb7-a722-47be-9095-9965920b7c20",
   "metadata": {},
   "source": [
    "### 5. Model Testing and Inference"
   ]
  },
  {
   "cell_type": "markdown",
   "id": "a7971d86-a924-476a-8a2a-76e87ed93562",
   "metadata": {},
   "source": [
    "#### 5.1 Evaluate the model"
   ]
  },
  {
   "cell_type": "code",
   "execution_count": 15,
   "id": "66f50f7e-3c88-4973-b329-660eae117858",
   "metadata": {
    "tags": []
   },
   "outputs": [
    {
     "name": "stdout",
     "output_type": "stream",
     "text": [
      "375/375 [==============================] - 13s 36ms/step - loss: 0.5211 - accuracy: 0.7473\n"
     ]
    }
   ],
   "source": [
    "accr1 = model.evaluate(X_test,Y_test)"
   ]
  },
  {
   "cell_type": "markdown",
   "id": "8c797b44-11a8-45e1-b961-339638781032",
   "metadata": {
    "tags": []
   },
   "source": [
    "#### 5.2 Test few samples"
   ]
  },
  {
   "cell_type": "code",
   "execution_count": 16,
   "id": "3059bba4-1fa6-4b2d-b7f1-8c61f08245a5",
   "metadata": {
    "tags": []
   },
   "outputs": [],
   "source": [
    "test = ['I love this course!','never go to this bad restraunt anytime']\n",
    "\n",
    "test = [(lambda x: transform_text(x))(x) for x in test]\n",
    "\n",
    "test = tokenize_words_to_numeric(test)"
   ]
  },
  {
   "cell_type": "code",
   "execution_count": 17,
   "id": "2bd0336f-1bfa-4c73-92d9-bacc25e9b3f9",
   "metadata": {
    "tags": []
   },
   "outputs": [
    {
     "name": "stdout",
     "output_type": "stream",
     "text": [
      "1/1 [==============================] - 0s 400ms/step\n"
     ]
    },
    {
     "data": {
      "text/plain": [
       "array([[0.24363832, 0.7563617 ],\n",
       "       [0.9157414 , 0.08425859]], dtype=float32)"
      ]
     },
     "execution_count": 17,
     "metadata": {},
     "output_type": "execute_result"
    }
   ],
   "source": [
    "model.predict(test)"
   ]
  },
  {
   "cell_type": "markdown",
   "id": "34b0802f-3703-495c-809e-2b5d67810438",
   "metadata": {},
   "source": [
    "#### 5.3 Run Inference"
   ]
  },
  {
   "cell_type": "code",
   "execution_count": 18,
   "id": "ecc9e822-86e5-4291-b359-75802a31ae65",
   "metadata": {
    "tags": []
   },
   "outputs": [
    {
     "name": "stdout",
     "output_type": "stream",
     "text": [
      "375/375 [==============================] - 13s 33ms/step\n"
     ]
    }
   ],
   "source": [
    "y_pred = model.predict(X_test) #getting predictions on the trained model\n",
    "y_pred = [(lambda x: np.argmax(x))(x) for x in y_pred]"
   ]
  },
  {
   "cell_type": "markdown",
   "id": "e32747ae-21d6-47d0-93e9-b5a3145309e3",
   "metadata": {
    "tags": []
   },
   "source": [
    "### 6. Model Performance"
   ]
  },
  {
   "cell_type": "markdown",
   "id": "1185c4e9-ad5c-41b8-90c6-e2cef7e2177a",
   "metadata": {},
   "source": [
    "#### 6.1 Confusion Matrix"
   ]
  },
  {
   "cell_type": "code",
   "execution_count": 24,
   "id": "9c1afbea-40a5-4e0d-8509-d894a428a86b",
   "metadata": {
    "tags": []
   },
   "outputs": [
    {
     "name": "stdout",
     "output_type": "stream",
     "text": [
      "[[4409 1600]\n",
      " [1432 4559]]\n"
     ]
    },
    {
     "data": {
      "text/plain": [
       "(4409, 1600, 1432, 4559)"
      ]
     },
     "execution_count": 24,
     "metadata": {},
     "output_type": "execute_result"
    }
   ],
   "source": [
    "cm = metrics.confusion_matrix(Y_test, y_pred)\n",
    "\n",
    "print(cm)\n",
    "\n",
    "TN, FP, FN, TP = cm.ravel()\n",
    "TN, FP, FN, TP"
   ]
  },
  {
   "cell_type": "code",
   "execution_count": 25,
   "id": "f1db856d-40dc-4e75-a945-66166627cc87",
   "metadata": {
    "tags": []
   },
   "outputs": [
    {
     "data": {
      "text/html": [
       "<div>\n",
       "<style scoped>\n",
       "    .dataframe tbody tr th:only-of-type {\n",
       "        vertical-align: middle;\n",
       "    }\n",
       "\n",
       "    .dataframe tbody tr th {\n",
       "        vertical-align: top;\n",
       "    }\n",
       "\n",
       "    .dataframe thead th {\n",
       "        text-align: right;\n",
       "    }\n",
       "</style>\n",
       "<table border=\"1\" class=\"dataframe\">\n",
       "  <thead>\n",
       "    <tr style=\"text-align: right;\">\n",
       "      <th></th>\n",
       "      <th>predict: negative_sentiment</th>\n",
       "      <th>predict: positive_sentiment</th>\n",
       "    </tr>\n",
       "  </thead>\n",
       "  <tbody>\n",
       "    <tr>\n",
       "      <th>Actual: negative_Sentiment</th>\n",
       "      <td>4409</td>\n",
       "      <td>1600</td>\n",
       "    </tr>\n",
       "    <tr>\n",
       "      <th>Actual: positive_sentiment</th>\n",
       "      <td>1432</td>\n",
       "      <td>4559</td>\n",
       "    </tr>\n",
       "  </tbody>\n",
       "</table>\n",
       "</div>"
      ],
      "text/plain": [
       "                            predict: negative_sentiment  \\\n",
       "Actual: negative_Sentiment                         4409   \n",
       "Actual: positive_sentiment                         1432   \n",
       "\n",
       "                            predict: positive_sentiment  \n",
       "Actual: negative_Sentiment                         1600  \n",
       "Actual: positive_sentiment                         4559  "
      ]
     },
     "execution_count": 25,
     "metadata": {},
     "output_type": "execute_result"
    }
   ],
   "source": [
    "df_cm = pd.DataFrame(data=cm, columns=['predict: negative_sentiment', 'predict: positive_sentiment'],\n",
    "                    index = ['Actual: negative_Sentiment', 'Actual: positive_sentiment'])\n",
    "\n",
    "df_cm"
   ]
  },
  {
   "cell_type": "code",
   "execution_count": 26,
   "id": "f5a37ad7-9765-40a6-a8aa-c1796d81a1f5",
   "metadata": {
    "tags": []
   },
   "outputs": [
    {
     "data": {
      "text/plain": [
       "<Axes: >"
      ]
     },
     "execution_count": 26,
     "metadata": {},
     "output_type": "execute_result"
    },
    {
     "data": {
      "image/png": "[encoded data removed]",
      "text/plain": [
       "<Figure size 640x480 with 2 Axes>"
      ]
     },
     "metadata": {},
     "output_type": "display_data"
    }
   ],
   "source": [
    "sns.heatmap(cm, annot=True)"
   ]
  },
  {
   "cell_type": "markdown",
   "id": "9ffbf726-fe64-4e68-b93a-6bb6ea37dbd6",
   "metadata": {},
   "source": [
    "#### 6.2 Plot ROC curve"
   ]
  },
  {
   "cell_type": "code",
   "execution_count": 28,
   "id": "d2fece94-81ba-49b5-92b9-4b21ddf6adac",
   "metadata": {
    "tags": []
   },
   "outputs": [
    {
     "data": {
      "image/png": "[encoded data removed]",
      "text/plain": [
       "<Figure size 640x480 with 1 Axes>"
      ]
     },
     "metadata": {},
     "output_type": "display_data"
    }
   ],
   "source": [
    "fpr, tpr, thresholds = roc_curve(Y_test, y_pred)\n",
    "roc_auc = auc(fpr, tpr)\n",
    "plt.figure()\n",
    "plt.plot(fpr, tpr, color='darkorange', lw=1, label='ROC curve (area = %0.2f)' % roc_auc)\n",
    "plt.xlim([0.0, 1.0])\n",
    "plt.ylim([0.0, 1.05])\n",
    "plt.xlabel('False Positive Rate')\n",
    "plt.ylabel('True Positive Rate')\n",
    "plt.title('ROC CURVE')\n",
    "plt.legend(loc=\"lower right\")\n",
    "plt.show()"
   ]
  },
  {
   "cell_type": "markdown",
   "id": "162480d4-58b7-41e9-9c24-b74ee325de6d",
   "metadata": {
    "tags": []
   },
   "source": [
    "### Comments Section for reference -- Ignore cells after this"
   ]
  },
  {
   "cell_type": "code",
   "execution_count": null,
   "id": "c1b3c02a-993e-4594-af5b-b2e2ac99d77a",
   "metadata": {},
   "outputs": [],
   "source": [
    "# tweets['text'] = tweets['text'].str.lower()\n",
    "# tweets['text'] = tweets['text'].apply(lambda text: cleaning_stopwords(text))\n",
    "# tweets['text'] = tweets['text'].apply(lambda text: cleaning_punctuations(text))\n",
    "# tweets['text'] = tweets['text'].apply(lambda text: cleaning_repeating_char(text))\n",
    "# tweets['text'] = tweets['text'].apply(lambda text: cleaning_email(text))\n",
    "# tweets['text'] = tweets['text'].apply(lambda text: cleaning_URLs(text))\n",
    "# tweets['text'] = tweets['text'].apply(lambda text: cleaning_numbers(text))\n",
    "\n",
    "# import seaborn as sns \n",
    "# sns.set(rc={'figure.figsize':(20,8)})\n",
    "# sns.countplot(tweets, x=\"wordlen\")\n",
    "\n",
    "# tokenizer = Tokenizer()\n",
    "# tokenizer.fit_on_texts(X)\n",
    "# vocab_size = len(tokenizer.word_index) + 1\n",
    "# print(\"Total words\", vocab_size)\n",
    "\n",
    "# sequences = tokenizer.texts_to_sequences(X)\n",
    "# sequences_matrix = sequence.pad_sequences(sequences,maxlen=10)"
   ]
  },
  {
   "cell_type": "code",
   "execution_count": null,
   "id": "4f5e9b10-6314-499a-acfd-ef8d934c4dbb",
   "metadata": {},
   "outputs": [],
   "source": [
    "# history_dict = history.history\n",
    "# history_dict.keys()"
   ]
  },
  {
   "cell_type": "code",
   "execution_count": null,
   "id": "604b81b6-43b9-4612-ba11-3e565d79390c",
   "metadata": {},
   "outputs": [],
   "source": [
    "# import matplotlib.pyplot as plt\n",
    "\n",
    "# acc = history_dict['accuracy']\n",
    "# val_acc = history_dict['val_accuracy']\n",
    "# loss = history_dict['loss']\n",
    "# val_loss = history_dict['val_loss']\n",
    "\n",
    "# epochs = range(1, len(acc) + 1)\n",
    "\n",
    "# # \"bo\" is for \"blue dot\"\n",
    "# plt.plot(epochs, loss, 'bo', label='Training loss')\n",
    "# # b is for \"solid blue line\"\n",
    "# plt.plot(epochs, val_loss, 'b', label='Validation loss')\n",
    "# plt.title('Training and validation loss')\n",
    "# plt.xlabel('Epochs')\n",
    "# plt.ylabel('Loss')\n",
    "# plt.legend()\n",
    "\n",
    "# plt.show()"
   ]
  },
  {
   "cell_type": "code",
   "execution_count": null,
   "id": "9e91a962-ebb2-4e83-9751-60b41d706743",
   "metadata": {
    "tags": []
   },
   "outputs": [],
   "source": [
    "# plt.plot(epochs, acc, 'bo', label='Training acc')\n",
    "# plt.plot(epochs, val_acc, 'b', label='Validation acc')\n",
    "# plt.title('Training and validation accuracy')\n",
    "# plt.xlabel('Epochs')\n",
    "# plt.ylabel('Accuracy')\n",
    "# plt.legend(loc='lower right')\n",
    "\n",
    "# plt.show()"
   ]
  }
 ],
 "metadata": {
  "kernelspec": {
   "display_name": "Python 3 (ipykernel)",
   "language": "python",
   "name": "python3"
  },
  "language_info": {
   "codemirror_mode": {
    "name": "ipython",
    "version": 3
   },
   "file_extension": ".py",
   "mimetype": "text/x-python",
   "name": "python",
   "nbconvert_exporter": "python",
   "pygments_lexer": "ipython3",
   "version": "3.11.4"
  }
 },
 "nbformat": 4,
 "nbformat_minor": 5
}
